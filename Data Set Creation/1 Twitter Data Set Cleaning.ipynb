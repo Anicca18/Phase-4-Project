{
 "cells": [
  {
   "cell_type": "code",
   "execution_count": 1,
   "metadata": {},
   "outputs": [],
   "source": [
    "import pandas as pd\n",
    "import os\n",
    "from IPython.display import display"
   ]
  },
  {
   "cell_type": "markdown",
   "metadata": {},
   "source": []
  },
  {
   "cell_type": "markdown",
   "metadata": {},
   "source": [
    "# Opening Data"
   ]
  },
  {
   "cell_type": "code",
   "execution_count": 2,
   "metadata": {},
   "outputs": [
    {
     "name": "stdout",
     "output_type": "stream",
     "text": [
      "         username                                         tweet_text  \\\n",
      "0   MantaAnalysis  celebration manta list on binance  2000000 air...   \n",
      "1         Amiou16  𝙄𝙣𝙫𝙚𝙨𝙩𝙤𝙧𝙨 𝙖𝙣𝙙 𝘽𝙖𝙘𝙠𝙚𝙙  skyark has a lot of inve...   \n",
      "2   Cryptoprime00  dedication to those who wait that deadcat boun...   \n",
      "3  CryptoLalit151  binance indirectly challenging indian sovereig...   \n",
      "4    MantaNetwork  today mantanetwork becomes the first zk l2 to ...   \n",
      "\n",
      "                                           tweet_raw        date  happy  \\\n",
      "0  Celebration $MANTA list on #Binance - $2000000...  01/15/2024   0.00   \n",
      "1  𝙄𝙣𝙫𝙚𝙨𝙩𝙤𝙧𝙨 𝙖𝙣𝙙 𝘽𝙖𝙘𝙠𝙚𝙙SkyArk has a lot of invest...  01/15/2024   0.33   \n",
      "2  Dedication to those who wait that deadcat boun...  01/15/2024   0.00   \n",
      "3  #Binance indirectly Challenging Indian Soverei...  01/15/2024   0.05   \n",
      "4  Today @MantaNetwork becomes the first ZK L2 to...  01/15/2024   0.00   \n",
      "\n",
      "   angry  surprise   sad  fear  afinn  bing     sid  bertweet  \\\n",
      "0   0.00      0.00  0.00  0.00      6     3  0.7430         0   \n",
      "1   0.00      0.00  0.33  0.33      4     1  0.4005         1   \n",
      "2   0.00      0.33  0.00  0.67      0     0  0.4404         1   \n",
      "3   0.11      0.21  0.05  0.58      4     1  0.9125        -1   \n",
      "4   0.00      0.33  0.67  0.00      7     2  0.7351         1   \n",
      "\n",
      "   bertweet_confidence  \n",
      "0             0.760314  \n",
      "1             0.751853  \n",
      "2             0.755133  \n",
      "3             0.708018  \n",
      "4             0.991829  \n"
     ]
    }
   ],
   "source": [
    "file_path = '/Users/jessiefreelander/Flatiron/Git_lab_Phase Project/Phase-4-Project/Phase-4-Project/Twitter Data Sets/240115_binance_1002.csv'\n",
    "\n",
    "df = pd.read_csv(file_path)\n",
    "\n",
    "print(df.head())"
   ]
  },
  {
   "cell_type": "code",
   "execution_count": 3,
   "metadata": {},
   "outputs": [
    {
     "name": "stdout",
     "output_type": "stream",
     "text": [
      "(1002, 14)\n"
     ]
    }
   ],
   "source": [
    "print(df.shape)"
   ]
  },
  {
   "cell_type": "markdown",
   "metadata": {},
   "source": [
    "# Concatinating Data"
   ]
  },
  {
   "cell_type": "code",
   "execution_count": 4,
   "metadata": {},
   "outputs": [
    {
     "data": {
      "text/html": [
       "<div>\n",
       "<style scoped>\n",
       "    .dataframe tbody tr th:only-of-type {\n",
       "        vertical-align: middle;\n",
       "    }\n",
       "\n",
       "    .dataframe tbody tr th {\n",
       "        vertical-align: top;\n",
       "    }\n",
       "\n",
       "    .dataframe thead th {\n",
       "        text-align: right;\n",
       "    }\n",
       "</style>\n",
       "<table border=\"1\" class=\"dataframe\">\n",
       "  <thead>\n",
       "    <tr style=\"text-align: right;\">\n",
       "      <th></th>\n",
       "      <th>username</th>\n",
       "      <th>tweet_text</th>\n",
       "      <th>tweet_raw</th>\n",
       "      <th>date</th>\n",
       "      <th>happy</th>\n",
       "      <th>angry</th>\n",
       "      <th>surprise</th>\n",
       "      <th>sad</th>\n",
       "      <th>fear</th>\n",
       "      <th>afinn</th>\n",
       "      <th>bing</th>\n",
       "      <th>sid</th>\n",
       "      <th>bertweet</th>\n",
       "      <th>bertweet_confidence</th>\n",
       "      <th>coins</th>\n",
       "      <th>exchanges</th>\n",
       "    </tr>\n",
       "  </thead>\n",
       "  <tbody>\n",
       "    <tr>\n",
       "      <th>0</th>\n",
       "      <td>ShardiB2</td>\n",
       "      <td>sol  probably see a trend shift to green here ...</td>\n",
       "      <td>$SOLProbably see a trend shift to green here soon</td>\n",
       "      <td>02/09/2024</td>\n",
       "      <td>0.00</td>\n",
       "      <td>0.00</td>\n",
       "      <td>0.00</td>\n",
       "      <td>0.00</td>\n",
       "      <td>1.00</td>\n",
       "      <td>0.0</td>\n",
       "      <td>0.0</td>\n",
       "      <td>0.0000</td>\n",
       "      <td>0.0</td>\n",
       "      <td>0.908659</td>\n",
       "      <td>NaN</td>\n",
       "      <td>NaN</td>\n",
       "    </tr>\n",
       "    <tr>\n",
       "      <th>1</th>\n",
       "      <td>vinsolana</td>\n",
       "      <td>mmm good job samoyedcoin i like what youre doi...</td>\n",
       "      <td>Mmm good job @samoyedcoin i like what you’re d...</td>\n",
       "      <td>02/09/2024</td>\n",
       "      <td>0.00</td>\n",
       "      <td>0.00</td>\n",
       "      <td>0.00</td>\n",
       "      <td>0.00</td>\n",
       "      <td>1.00</td>\n",
       "      <td>5.0</td>\n",
       "      <td>2.0</td>\n",
       "      <td>0.6597</td>\n",
       "      <td>1.0</td>\n",
       "      <td>0.986673</td>\n",
       "      <td>NaN</td>\n",
       "      <td>NaN</td>\n",
       "    </tr>\n",
       "    <tr>\n",
       "      <th>2</th>\n",
       "      <td>cryptophrex</td>\n",
       "      <td>sol profits most likely to flow into inj</td>\n",
       "      <td>$SOL profits most likely to flow into $INJ</td>\n",
       "      <td>12/29/2023</td>\n",
       "      <td>0.00</td>\n",
       "      <td>0.00</td>\n",
       "      <td>0.00</td>\n",
       "      <td>0.00</td>\n",
       "      <td>1.00</td>\n",
       "      <td>0.0</td>\n",
       "      <td>0.0</td>\n",
       "      <td>0.4404</td>\n",
       "      <td>0.0</td>\n",
       "      <td>0.944062</td>\n",
       "      <td>NaN</td>\n",
       "      <td>NaN</td>\n",
       "    </tr>\n",
       "    <tr>\n",
       "      <th>3</th>\n",
       "      <td>claytopians_NFT</td>\n",
       "      <td>providing value is key  being clear about the ...</td>\n",
       "      <td>Providing value is key &amp; being clear about the...</td>\n",
       "      <td>02/09/2024</td>\n",
       "      <td>0.00</td>\n",
       "      <td>0.05</td>\n",
       "      <td>0.15</td>\n",
       "      <td>0.30</td>\n",
       "      <td>0.50</td>\n",
       "      <td>4.0</td>\n",
       "      <td>1.0</td>\n",
       "      <td>0.8771</td>\n",
       "      <td>0.0</td>\n",
       "      <td>0.905987</td>\n",
       "      <td>NaN</td>\n",
       "      <td>NaN</td>\n",
       "    </tr>\n",
       "    <tr>\n",
       "      <th>4</th>\n",
       "      <td>Solmaxxi</td>\n",
       "      <td>sol is pushing for 110  remember anon this mag...</td>\n",
       "      <td>$SOL is pushing for $110.Remember anon this ma...</td>\n",
       "      <td>02/09/2024</td>\n",
       "      <td>0.38</td>\n",
       "      <td>0.12</td>\n",
       "      <td>0.38</td>\n",
       "      <td>0.00</td>\n",
       "      <td>0.12</td>\n",
       "      <td>0.0</td>\n",
       "      <td>1.0</td>\n",
       "      <td>-0.7105</td>\n",
       "      <td>0.0</td>\n",
       "      <td>0.627812</td>\n",
       "      <td>NaN</td>\n",
       "      <td>NaN</td>\n",
       "    </tr>\n",
       "    <tr>\n",
       "      <th>5</th>\n",
       "      <td>sharkdad81</td>\n",
       "      <td>pdex project is stronger than uni cake and inc...</td>\n",
       "      <td>$PDEX project is stronger than $UNI $CAKE and ...</td>\n",
       "      <td>02/09/2024</td>\n",
       "      <td>0.00</td>\n",
       "      <td>0.00</td>\n",
       "      <td>0.00</td>\n",
       "      <td>1.00</td>\n",
       "      <td>0.00</td>\n",
       "      <td>2.0</td>\n",
       "      <td>2.0</td>\n",
       "      <td>0.3818</td>\n",
       "      <td>1.0</td>\n",
       "      <td>0.988513</td>\n",
       "      <td>NaN</td>\n",
       "      <td>NaN</td>\n",
       "    </tr>\n",
       "    <tr>\n",
       "      <th>6</th>\n",
       "      <td>web3moe</td>\n",
       "      <td>to celebrate 59k followers heres a big giveawa...</td>\n",
       "      <td>To celebrate 59k+ followers here’s a big givea...</td>\n",
       "      <td>02/09/2024</td>\n",
       "      <td>0.00</td>\n",
       "      <td>0.17</td>\n",
       "      <td>0.33</td>\n",
       "      <td>0.00</td>\n",
       "      <td>0.50</td>\n",
       "      <td>5.0</td>\n",
       "      <td>2.0</td>\n",
       "      <td>0.7906</td>\n",
       "      <td>1.0</td>\n",
       "      <td>0.937607</td>\n",
       "      <td>NaN</td>\n",
       "      <td>NaN</td>\n",
       "    </tr>\n",
       "    <tr>\n",
       "      <th>7</th>\n",
       "      <td>yientulips</td>\n",
       "      <td>the squad cappysnft</td>\n",
       "      <td>the squad @CappysNFT</td>\n",
       "      <td>02/09/2024</td>\n",
       "      <td>0.00</td>\n",
       "      <td>0.00</td>\n",
       "      <td>0.00</td>\n",
       "      <td>0.00</td>\n",
       "      <td>0.00</td>\n",
       "      <td>0.0</td>\n",
       "      <td>0.0</td>\n",
       "      <td>0.0000</td>\n",
       "      <td>0.0</td>\n",
       "      <td>0.935295</td>\n",
       "      <td>NaN</td>\n",
       "      <td>NaN</td>\n",
       "    </tr>\n",
       "    <tr>\n",
       "      <th>8</th>\n",
       "      <td>gr3gor14n</td>\n",
       "      <td>获得一等奖  eventspolkadotnetwork  虫洞w的空投的地址包括但不限以下...</td>\n",
       "      <td>🥰获得一等奖 - events-polkadot.network虫洞$W的空投的地址，包括但...</td>\n",
       "      <td>02/09/2024</td>\n",
       "      <td>0.00</td>\n",
       "      <td>0.00</td>\n",
       "      <td>0.00</td>\n",
       "      <td>0.00</td>\n",
       "      <td>0.00</td>\n",
       "      <td>0.0</td>\n",
       "      <td>1.0</td>\n",
       "      <td>0.0000</td>\n",
       "      <td>0.0</td>\n",
       "      <td>0.975767</td>\n",
       "      <td>NaN</td>\n",
       "      <td>NaN</td>\n",
       "    </tr>\n",
       "    <tr>\n",
       "      <th>9</th>\n",
       "      <td>HeteroChupalaaa</td>\n",
       "      <td>went to leh bank the other day they gave me mo...</td>\n",
       "      <td>Went to $LEH bank the other day. They gave me ...</td>\n",
       "      <td>02/09/2024</td>\n",
       "      <td>0.22</td>\n",
       "      <td>0.00</td>\n",
       "      <td>0.00</td>\n",
       "      <td>0.33</td>\n",
       "      <td>0.44</td>\n",
       "      <td>7.0</td>\n",
       "      <td>2.0</td>\n",
       "      <td>0.8176</td>\n",
       "      <td>1.0</td>\n",
       "      <td>0.988199</td>\n",
       "      <td>NaN</td>\n",
       "      <td>NaN</td>\n",
       "    </tr>\n",
       "  </tbody>\n",
       "</table>\n",
       "</div>"
      ],
      "text/plain": [
       "          username                                         tweet_text  \\\n",
       "0         ShardiB2  sol  probably see a trend shift to green here ...   \n",
       "1        vinsolana  mmm good job samoyedcoin i like what youre doi...   \n",
       "2      cryptophrex           sol profits most likely to flow into inj   \n",
       "3  claytopians_NFT  providing value is key  being clear about the ...   \n",
       "4         Solmaxxi  sol is pushing for 110  remember anon this mag...   \n",
       "5       sharkdad81  pdex project is stronger than uni cake and inc...   \n",
       "6          web3moe  to celebrate 59k followers heres a big giveawa...   \n",
       "7       yientulips                                the squad cappysnft   \n",
       "8        gr3gor14n  获得一等奖  eventspolkadotnetwork  虫洞w的空投的地址包括但不限以下...   \n",
       "9  HeteroChupalaaa  went to leh bank the other day they gave me mo...   \n",
       "\n",
       "                                           tweet_raw        date  happy  \\\n",
       "0  $SOLProbably see a trend shift to green here soon  02/09/2024   0.00   \n",
       "1  Mmm good job @samoyedcoin i like what you’re d...  02/09/2024   0.00   \n",
       "2         $SOL profits most likely to flow into $INJ  12/29/2023   0.00   \n",
       "3  Providing value is key & being clear about the...  02/09/2024   0.00   \n",
       "4  $SOL is pushing for $110.Remember anon this ma...  02/09/2024   0.38   \n",
       "5  $PDEX project is stronger than $UNI $CAKE and ...  02/09/2024   0.00   \n",
       "6  To celebrate 59k+ followers here’s a big givea...  02/09/2024   0.00   \n",
       "7                               the squad @CappysNFT  02/09/2024   0.00   \n",
       "8  🥰获得一等奖 - events-polkadot.network虫洞$W的空投的地址，包括但...  02/09/2024   0.00   \n",
       "9  Went to $LEH bank the other day. They gave me ...  02/09/2024   0.22   \n",
       "\n",
       "   angry  surprise   sad  fear  afinn  bing     sid  bertweet  \\\n",
       "0   0.00      0.00  0.00  1.00    0.0   0.0  0.0000       0.0   \n",
       "1   0.00      0.00  0.00  1.00    5.0   2.0  0.6597       1.0   \n",
       "2   0.00      0.00  0.00  1.00    0.0   0.0  0.4404       0.0   \n",
       "3   0.05      0.15  0.30  0.50    4.0   1.0  0.8771       0.0   \n",
       "4   0.12      0.38  0.00  0.12    0.0   1.0 -0.7105       0.0   \n",
       "5   0.00      0.00  1.00  0.00    2.0   2.0  0.3818       1.0   \n",
       "6   0.17      0.33  0.00  0.50    5.0   2.0  0.7906       1.0   \n",
       "7   0.00      0.00  0.00  0.00    0.0   0.0  0.0000       0.0   \n",
       "8   0.00      0.00  0.00  0.00    0.0   1.0  0.0000       0.0   \n",
       "9   0.00      0.00  0.33  0.44    7.0   2.0  0.8176       1.0   \n",
       "\n",
       "   bertweet_confidence coins exchanges  \n",
       "0             0.908659   NaN       NaN  \n",
       "1             0.986673   NaN       NaN  \n",
       "2             0.944062   NaN       NaN  \n",
       "3             0.905987   NaN       NaN  \n",
       "4             0.627812   NaN       NaN  \n",
       "5             0.988513   NaN       NaN  \n",
       "6             0.937607   NaN       NaN  \n",
       "7             0.935295   NaN       NaN  \n",
       "8             0.975767   NaN       NaN  \n",
       "9             0.988199   NaN       NaN  "
      ]
     },
     "execution_count": 4,
     "metadata": {},
     "output_type": "execute_result"
    }
   ],
   "source": [
    "data_directory = '/Users/jessiefreelander/Flatiron/Git_lab_Phase Project/Phase-4-Project/Phase-4-Project/Twitter Data Sets/'\n",
    "\n",
    "dataframes = []\n",
    "\n",
    "for filename in os.listdir(data_directory):\n",
    "    if filename.endswith('.csv'): \n",
    "        file_path = os.path.join(data_directory, filename)\n",
    "        df = pd.read_csv(file_path)\n",
    "        dataframes.append(df)\n",
    "\n",
    "\n",
    "combined_df = pd.concat(dataframes, ignore_index=True)\n",
    "\n",
    "combined_df.head(10)"
   ]
  },
  {
   "cell_type": "markdown",
   "metadata": {},
   "source": [
    "# Cleaning Data\n"
   ]
  },
  {
   "cell_type": "code",
   "execution_count": 5,
   "metadata": {},
   "outputs": [
    {
     "name": "stdout",
     "output_type": "stream",
     "text": [
      "username                  30\n",
      "tweet_text                30\n",
      "tweet_raw                 32\n",
      "date                      32\n",
      "happy                     32\n",
      "angry                     32\n",
      "surprise                  32\n",
      "sad                       32\n",
      "fear                      32\n",
      "afinn                     32\n",
      "bing                      32\n",
      "sid                       32\n",
      "bertweet                  33\n",
      "bertweet_confidence       33\n",
      "coins                  58545\n",
      "exchanges              58566\n",
      "dtype: int64\n"
     ]
    }
   ],
   "source": [
    "na_values = combined_df.isna().sum()\n",
    "print(na_values)"
   ]
  },
  {
   "cell_type": "code",
   "execution_count": 6,
   "metadata": {},
   "outputs": [],
   "source": [
    "\n",
    "combined_df = combined_df.drop(columns=['coins', 'exchanges', 'tweet_text'])\n"
   ]
  },
  {
   "cell_type": "code",
   "execution_count": 7,
   "metadata": {},
   "outputs": [],
   "source": [
    "combined_df = combined_df.dropna()"
   ]
  },
  {
   "cell_type": "code",
   "execution_count": 8,
   "metadata": {},
   "outputs": [
    {
     "name": "stdout",
     "output_type": "stream",
     "text": [
      "username               0\n",
      "tweet_raw              0\n",
      "date                   0\n",
      "happy                  0\n",
      "angry                  0\n",
      "surprise               0\n",
      "sad                    0\n",
      "fear                   0\n",
      "afinn                  0\n",
      "bing                   0\n",
      "sid                    0\n",
      "bertweet               0\n",
      "bertweet_confidence    0\n",
      "dtype: int64\n",
      "(58542, 13)\n"
     ]
    }
   ],
   "source": [
    "na_values = combined_df.isna().sum()\n",
    "print(na_values)\n",
    "print(combined_df.shape)"
   ]
  },
  {
   "cell_type": "code",
   "execution_count": 9,
   "metadata": {},
   "outputs": [],
   "source": [
    "combined_df = combined_df[combined_df['date'] >= '2020-01-01']"
   ]
  },
  {
   "cell_type": "code",
   "execution_count": 10,
   "metadata": {},
   "outputs": [
    {
     "data": {
      "text/html": [
       "<div>\n",
       "<style scoped>\n",
       "    .dataframe tbody tr th:only-of-type {\n",
       "        vertical-align: middle;\n",
       "    }\n",
       "\n",
       "    .dataframe tbody tr th {\n",
       "        vertical-align: top;\n",
       "    }\n",
       "\n",
       "    .dataframe thead th {\n",
       "        text-align: right;\n",
       "    }\n",
       "</style>\n",
       "<table border=\"1\" class=\"dataframe\">\n",
       "  <thead>\n",
       "    <tr style=\"text-align: right;\">\n",
       "      <th></th>\n",
       "      <th>username</th>\n",
       "      <th>tweet_raw</th>\n",
       "      <th>date</th>\n",
       "      <th>happy</th>\n",
       "      <th>angry</th>\n",
       "      <th>surprise</th>\n",
       "      <th>sad</th>\n",
       "      <th>fear</th>\n",
       "      <th>afinn</th>\n",
       "      <th>bing</th>\n",
       "      <th>sid</th>\n",
       "      <th>bertweet</th>\n",
       "      <th>bertweet_confidence</th>\n",
       "    </tr>\n",
       "  </thead>\n",
       "  <tbody>\n",
       "  </tbody>\n",
       "</table>\n",
       "</div>"
      ],
      "text/plain": [
       "Empty DataFrame\n",
       "Columns: [username, tweet_raw, date, happy, angry, surprise, sad, fear, afinn, bing, sid, bertweet, bertweet_confidence]\n",
       "Index: []"
      ]
     },
     "execution_count": 10,
     "metadata": {},
     "output_type": "execute_result"
    }
   ],
   "source": [
    "combined_df"
   ]
  },
  {
   "cell_type": "markdown",
   "metadata": {},
   "source": [
    "# Exporting Data"
   ]
  },
  {
   "cell_type": "code",
   "execution_count": 11,
   "metadata": {},
   "outputs": [],
   "source": [
    "# Save combined_df to a CSV file\n",
    "output_file_path = '/Users/jessiefreelander/Flatiron/Git_lab_Phase Project/Phase-4-Project/combined_data.csv'\n",
    "combined_df.to_csv(output_file_path, index=False)"
   ]
  },
  {
   "cell_type": "code",
   "execution_count": 12,
   "metadata": {},
   "outputs": [
    {
     "name": "stdout",
     "output_type": "stream",
     "text": [
      "Date range: (NaT, NaT)\n"
     ]
    }
   ],
   "source": [
    "# Convert the 'date' column to datetime format\n",
    "combined_df['date'] = pd.to_datetime(combined_df['date'], errors='coerce')\n",
    "\n",
    "# Check the date range\n",
    "date_range = combined_df['date'].min(), combined_df['date'].max()\n",
    "print(f\"Date range: {date_range}\")"
   ]
  },
  {
   "cell_type": "code",
   "execution_count": null,
   "metadata": {},
   "outputs": [],
   "source": []
  },
  {
   "cell_type": "code",
   "execution_count": null,
   "metadata": {},
   "outputs": [],
   "source": []
  }
 ],
 "metadata": {
  "kernelspec": {
   "display_name": "Python (learn-env)",
   "language": "python",
   "name": "learn-env"
  },
  "language_info": {
   "codemirror_mode": {
    "name": "ipython",
    "version": 3
   },
   "file_extension": ".py",
   "mimetype": "text/x-python",
   "name": "python",
   "nbconvert_exporter": "python",
   "pygments_lexer": "ipython3",
   "version": "3.12.4"
  }
 },
 "nbformat": 4,
 "nbformat_minor": 2
}
